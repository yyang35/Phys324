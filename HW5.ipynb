{
 "cells": [
  {
   "cell_type": "code",
   "execution_count": 20,
   "id": "c0c94119",
   "metadata": {},
   "outputs": [],
   "source": [
    "from sympy import symbols, Eq, solve, sin, cos, exp, sqrt, pi, I, simplify, cosh, integrate, oo\n",
    "\n",
    "x, E0, t, m, h, p = symbols('x E0 t m h p', real=True)\n",
    "a, h = symbols('a h', real=True, positive=True)\n",
    "\n",
    "expression = 8 * pi * a * h ** 3* cos(a*p / h) **2 / (pi**2 *h**2 - 4 * a**2 *p **2)\n"
   ]
  },
  {
   "cell_type": "code",
   "execution_count": 3,
   "id": "ba118992",
   "metadata": {},
   "outputs": [
    {
     "data": {
      "text/latex": [
       "$\\displaystyle \\frac{8 \\pi a h^{3} \\cos^{2}{\\left(\\frac{a p}{h} \\right)}}{- 4 a^{2} p^{2} + \\pi^{2} h^{2}}$"
      ],
      "text/plain": [
       "8*pi*a*h**3*cos(a*p/h)**2/(-4*a**2*p**2 + pi**2*h**2)"
      ]
     },
     "execution_count": 3,
     "metadata": {},
     "output_type": "execute_result"
    }
   ],
   "source": [
    "expression "
   ]
  },
  {
   "cell_type": "code",
   "execution_count": 7,
   "id": "ba6a9fb4",
   "metadata": {},
   "outputs": [],
   "source": [
    "\n",
    "integral_result = integrate(expression, (p, -1 * oo, oo)) "
   ]
  },
  {
   "cell_type": "code",
   "execution_count": 8,
   "id": "f5e377a3",
   "metadata": {},
   "outputs": [
    {
     "data": {
      "text/latex": [
       "$\\displaystyle \\begin{cases} 0 & \\text{for}\\: \\left|{\\arg{\\left(h \\right)}}\\right| = 0 \\wedge \\left(\\left(\\left|{2 \\arg{\\left(h \\right)} - \\pi}\\right| < \\pi \\wedge \\left|{2 \\arg{\\left(h \\right)} - \\pi}\\right| \\neq \\pi\\right) \\vee \\left|{2 \\arg{\\left(h \\right)} - \\pi}\\right| < \\pi\\right) \\wedge \\left|{2 \\arg{\\left(h \\right)} - \\pi}\\right| < \\pi \\\\\\int\\limits_{-\\infty}^{\\infty} \\frac{8 \\pi a h^{3} \\cos^{2}{\\left(\\frac{a p}{h} \\right)}}{- 4 a^{2} p^{2} + \\pi^{2} h^{2}}\\, dp & \\text{otherwise} \\end{cases}$"
      ],
      "text/plain": [
       "Piecewise((0, Eq(Abs(arg(h)), 0) & (Abs(2*arg(h) - pi) < pi) & ((Abs(2*arg(h) - pi) < pi) | ((Abs(2*arg(h) - pi) < pi) & Ne(Abs(2*arg(h) - pi), pi)))), (Integral(8*pi*a*h**3*cos(a*p/h)**2/(-4*a**2*p**2 + pi**2*h**2), (p, -oo, oo)), True))"
      ]
     },
     "execution_count": 8,
     "metadata": {},
     "output_type": "execute_result"
    }
   ],
   "source": [
    "integral_result"
   ]
  },
  {
   "cell_type": "code",
   "execution_count": 9,
   "id": "490b367e",
   "metadata": {},
   "outputs": [],
   "source": [
    "psi = sqrt(1/a) * cos(pi * x / (2 * a))"
   ]
  },
  {
   "cell_type": "code",
   "execution_count": 11,
   "id": "4cdabb40",
   "metadata": {},
   "outputs": [
    {
     "data": {
      "text/latex": [
       "$\\displaystyle 1$"
      ],
      "text/plain": [
       "1"
      ]
     },
     "execution_count": 11,
     "metadata": {},
     "output_type": "execute_result"
    }
   ],
   "source": [
    "integrate(psi**2, (x, -a, a)) "
   ]
  },
  {
   "cell_type": "code",
   "execution_count": 40,
   "id": "2f10ba2f",
   "metadata": {},
   "outputs": [
    {
     "data": {
      "text/latex": [
       "$\\displaystyle \\begin{cases} - \\frac{- \\frac{a \\sin^{2}{\\left(\\frac{a p}{h} \\right)}}{2} - \\frac{a \\cos^{2}{\\left(\\frac{a p}{h} \\right)}}{2} - \\frac{h \\sin{\\left(\\frac{a p}{h} \\right)} \\cos{\\left(\\frac{a p}{h} \\right)}}{2 p} + \\frac{i h \\cos^{2}{\\left(\\frac{a p}{h} \\right)}}{2 p}}{\\sqrt{a}} + \\frac{\\frac{a \\sin^{2}{\\left(\\frac{a p}{h} \\right)}}{2} + \\frac{a \\cos^{2}{\\left(\\frac{a p}{h} \\right)}}{2} + \\frac{h \\sin{\\left(\\frac{a p}{h} \\right)} \\cos{\\left(\\frac{a p}{h} \\right)}}{2 p} + \\frac{i h \\cos^{2}{\\left(\\frac{a p}{h} \\right)}}{2 p}}{\\sqrt{a}} & \\text{for}\\: \\left(a = - \\frac{\\pi h}{2 p} \\wedge a = \\frac{\\pi h}{2 p}\\right) \\vee a = - \\frac{\\pi h}{2 p} \\vee a = \\frac{\\pi h}{2 p} \\\\\\frac{\\frac{2 i \\pi a h^{2} \\sin{\\left(\\frac{a p}{h} \\right)}}{4 a^{2} p^{2} - \\pi^{2} h^{2}} - \\frac{2 \\pi a h^{2} \\cos{\\left(\\frac{a p}{h} \\right)}}{4 a^{2} p^{2} - \\pi^{2} h^{2}}}{\\sqrt{a}} - \\frac{\\frac{2 i \\pi a h^{2} \\sin{\\left(\\frac{a p}{h} \\right)}}{4 a^{2} p^{2} - \\pi^{2} h^{2}} + \\frac{2 \\pi a h^{2} \\cos{\\left(\\frac{a p}{h} \\right)}}{4 a^{2} p^{2} - \\pi^{2} h^{2}}}{\\sqrt{a}} & \\text{otherwise} \\end{cases}$"
      ],
      "text/plain": [
       "Piecewise((-(-a*sin(a*p/h)**2/2 - a*cos(a*p/h)**2/2 - h*sin(a*p/h)*cos(a*p/h)/(2*p) + I*h*cos(a*p/h)**2/(2*p))/sqrt(a) + (a*sin(a*p/h)**2/2 + a*cos(a*p/h)**2/2 + h*sin(a*p/h)*cos(a*p/h)/(2*p) + I*h*cos(a*p/h)**2/(2*p))/sqrt(a), Eq(a, -pi*h/(2*p)) | Eq(a, pi*h/(2*p)) | (Eq(a, -pi*h/(2*p)) & Eq(a, pi*h/(2*p)))), ((2*I*pi*a*h**2*sin(a*p/h)/(4*a**2*p**2 - pi**2*h**2) - 2*pi*a*h**2*cos(a*p/h)/(4*a**2*p**2 - pi**2*h**2))/sqrt(a) - (2*I*pi*a*h**2*sin(a*p/h)/(4*a**2*p**2 - pi**2*h**2) + 2*pi*a*h**2*cos(a*p/h)/(4*a**2*p**2 - pi**2*h**2))/sqrt(a), True))"
      ]
     },
     "execution_count": 40,
     "metadata": {},
     "output_type": "execute_result"
    }
   ],
   "source": [
    "\n",
    "inner = (cos( -p * x / h) + 1 * I * sin(- p * x / h)) * psi \n",
    "integrate(inner, (x, -1 * a, a)) "
   ]
  },
  {
   "cell_type": "code",
   "execution_count": 41,
   "id": "0f75b352",
   "metadata": {},
   "outputs": [
    {
     "data": {
      "text/latex": [
       "$\\displaystyle \\begin{cases} \\frac{a p + \\frac{h \\sin{\\left(\\frac{2 a p}{h} \\right)}}{2}}{\\sqrt{a} p} & \\text{for}\\: a = - \\frac{\\pi h}{2 p} \\vee a = \\frac{\\pi h}{2 p} \\\\- \\frac{4 \\pi \\sqrt{a} h^{2} \\cos{\\left(\\frac{a p}{h} \\right)}}{4 a^{2} p^{2} - \\pi^{2} h^{2}} & \\text{otherwise} \\end{cases}$"
      ],
      "text/plain": [
       "Piecewise(((a*p + h*sin(2*a*p/h)/2)/(sqrt(a)*p), Eq(a, -pi*h/(2*p)) | Eq(a, pi*h/(2*p))), (-4*pi*sqrt(a)*h**2*cos(a*p/h)/(4*a**2*p**2 - pi**2*h**2), True))"
      ]
     },
     "execution_count": 41,
     "metadata": {},
     "output_type": "execute_result"
    }
   ],
   "source": [
    "simplify(integrate(inner, (x, -1 * a, a))) "
   ]
  },
  {
   "cell_type": "code",
   "execution_count": 32,
   "id": "5648bdfc",
   "metadata": {},
   "outputs": [],
   "source": [
    "result = - 4 * pi * sqrt(a) * h**2 * cos(a*p/h) / (4 * a ** 2 * p**2 - pi**2 * h**2)"
   ]
  },
  {
   "cell_type": "code",
   "execution_count": 42,
   "id": "3727346d",
   "metadata": {},
   "outputs": [],
   "source": [
    "step1 = result * 1/ sqrt( 2 * pi * h)"
   ]
  },
  {
   "cell_type": "code",
   "execution_count": 46,
   "id": "0f1ef600",
   "metadata": {},
   "outputs": [
    {
     "data": {
      "text/latex": [
       "$\\displaystyle 8 \\pi a h^{3} \\int\\limits_{-\\infty}^{\\infty} \\frac{p \\cos^{2}{\\left(\\frac{a p}{h} \\right)}}{16 a^{4} p^{4} - 8 \\pi^{2} a^{2} h^{2} p^{2} + \\pi^{4} h^{4}}\\, dp$"
      ],
      "text/plain": [
       "8*pi*a*h**3*Integral(p*cos(a*p/h)**2/(16*a**4*p**4 - 8*pi**2*a**2*h**2*p**2 + pi**4*h**4), (p, -oo, oo))"
      ]
     },
     "execution_count": 46,
     "metadata": {},
     "output_type": "execute_result"
    }
   ],
   "source": [
    "integrate(step1 ** 2*  p, (p, -1 * oo, oo)) "
   ]
  },
  {
   "cell_type": "code",
   "execution_count": 47,
   "id": "182cfd44",
   "metadata": {},
   "outputs": [
    {
     "data": {
      "text/latex": [
       "$\\displaystyle 8 \\pi a h^{3} \\int\\limits_{-\\infty}^{\\infty} \\frac{p^{2} \\cos^{2}{\\left(\\frac{a p}{h} \\right)}}{16 a^{4} p^{4} - 8 \\pi^{2} a^{2} h^{2} p^{2} + \\pi^{4} h^{4}}\\, dp$"
      ],
      "text/plain": [
       "8*pi*a*h**3*Integral(p**2*cos(a*p/h)**2/(16*a**4*p**4 - 8*pi**2*a**2*h**2*p**2 + pi**4*h**4), (p, -oo, oo))"
      ]
     },
     "execution_count": 47,
     "metadata": {},
     "output_type": "execute_result"
    }
   ],
   "source": [
    "integrate(step1 ** 2* p ** 2, (p, -1 * oo, oo)) "
   ]
  },
  {
   "cell_type": "code",
   "execution_count": null,
   "id": "7efcedd1",
   "metadata": {},
   "outputs": [],
   "source": []
  }
 ],
 "metadata": {
  "kernelspec": {
   "display_name": "Python 3 (ipykernel)",
   "language": "python",
   "name": "python3"
  },
  "language_info": {
   "codemirror_mode": {
    "name": "ipython",
    "version": 3
   },
   "file_extension": ".py",
   "mimetype": "text/x-python",
   "name": "python",
   "nbconvert_exporter": "python",
   "pygments_lexer": "ipython3",
   "version": "3.11.4"
  }
 },
 "nbformat": 4,
 "nbformat_minor": 5
}
