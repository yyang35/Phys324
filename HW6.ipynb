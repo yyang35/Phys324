{
 "cells": [
  {
   "cell_type": "code",
   "execution_count": 31,
   "id": "63fe0561",
   "metadata": {},
   "outputs": [
    {
     "data": {
      "text/latex": [
       "$\\displaystyle 9.00682491482409 \\cdot 10^{-15}$"
      ],
      "text/plain": [
       "9.00682491482409e-15"
      ]
     },
     "execution_count": 31,
     "metadata": {},
     "output_type": "execute_result"
    }
   ],
   "source": [
    "from sympy import symbols, Eq, solve, sin, cos, exp, sqrt, pi, I, simplify, cosh, integrate, oo\n",
    "\n",
    "x, E0, t, m, h, p = symbols('x E0 t m h p', real=True)\n",
    "a, h = symbols('a h', real=True, positive=True)\n",
    "\n",
    "a = 0.529 * 10 ** -10\n",
    "pi = 3.1415\n",
    "expression = 1 / (pi * a ** 3)  * 4/3 * pi * (10 ** -15) ** 3\n",
    "simplify(expression)"
   ]
  },
  {
   "cell_type": "code",
   "execution_count": 5,
   "id": "1d9fd618",
   "metadata": {},
   "outputs": [
    {
     "data": {
      "text/plain": [
       "1.942333320859901e-30"
      ]
     },
     "execution_count": 5,
     "metadata": {},
     "output_type": "execute_result"
    }
   ],
   "source": []
  },
  {
   "cell_type": "code",
   "execution_count": 1,
   "id": "1319fcf0",
   "metadata": {},
   "outputs": [
    {
     "data": {
      "text/latex": [
       "$\\displaystyle 9.02222162363338 \\cdot 10^{-15}$"
      ],
      "text/plain": [
       "9.02222162363338e-15"
      ]
     },
     "execution_count": 1,
     "metadata": {},
     "output_type": "execute_result"
    }
   ],
   "source": [
    "from sympy import symbols, Eq, solve, sin, cos, exp, sqrt, pi, I, simplify, cosh, integrate, oo\n",
    "\n",
    "r, a = symbols('r a', real=True, positive=True)\n",
    "\n",
    "p = exp(-2*r / a) * r ** 2 \n",
    "def_integral = integrate(p, (r, 0, 10 ** -15))\n",
    "expression =  4  / ( a ** 3)  * def_integral \n",
    "expression.subs(a, 0.529 * 10 ** -10)"
   ]
  },
  {
   "cell_type": "code",
   "execution_count": null,
   "id": "beda53c6",
   "metadata": {},
   "outputs": [],
   "source": []
  },
  {
   "cell_type": "code",
   "execution_count": 3,
   "id": "c8e1656d",
   "metadata": {},
   "outputs": [
    {
     "data": {
      "text/latex": [
       "$\\displaystyle \\frac{4 \\left(\\frac{a^{3}}{4} + \\frac{\\left(- a^{3} - 2.0 \\cdot 10^{-15} a^{2} - 2.0 \\cdot 10^{-30} a\\right) e^{- \\frac{2.0 \\cdot 10^{-15}}{a}}}{4}\\right)}{a^{3}}$"
      ],
      "text/plain": [
       "4*(a**3/4 + (-a**3 - 2.0e-15*a**2 - 2.0e-30*a)*exp(-2.0e-15/a)/4)/a**3"
      ]
     },
     "execution_count": 3,
     "metadata": {},
     "output_type": "execute_result"
    }
   ],
   "source": [
    "expression"
   ]
  },
  {
   "cell_type": "code",
   "execution_count": 6,
   "id": "07a640a5",
   "metadata": {},
   "outputs": [
    {
     "data": {
      "text/latex": [
       "$\\displaystyle -32.3407937810874$"
      ],
      "text/plain": [
       "-32.3407937810874"
      ]
     },
     "execution_count": 6,
     "metadata": {},
     "output_type": "execute_result"
    }
   ],
   "source": [
    "from sympy import symbols, Eq, solve, sin, cos, exp, sqrt, pi, I, simplify, cosh, integrate, oo, log\n",
    "\n",
    "r, a = symbols('r a', real=True, positive=True)\n",
    "\n",
    "p =  r ** 2 \n",
    "def_integral = integrate(p, (r, 0, 10 ** -15))\n",
    "expression =  log (4  / ( a ** 3)  * def_integral) \n",
    "expression.subs(a, 0.529 * 10 ** -10)"
   ]
  },
  {
   "cell_type": "code",
   "execution_count": 7,
   "id": "10128cca",
   "metadata": {},
   "outputs": [
    {
     "data": {
      "text/latex": [
       "$\\displaystyle -32.3407937810874$"
      ],
      "text/plain": [
       "-32.3407937810874"
      ]
     },
     "execution_count": 7,
     "metadata": {},
     "output_type": "execute_result"
    }
   ],
   "source": [
    "a = 0.529 * 10 ** -10\n",
    "r = 10 ** -15 \n",
    "log(4 / 3 * ( r / a)**3)"
   ]
  },
  {
   "cell_type": "code",
   "execution_count": 25,
   "id": "81b4c66d",
   "metadata": {},
   "outputs": [
    {
     "data": {
      "text/latex": [
       "$\\displaystyle \\frac{\\left(a^{2} e^{\\frac{2.0 \\cdot 10^{-15}}{a}} - a^{2} - 2.0 \\cdot 10^{-15} a - 2.0 \\cdot 10^{-30}\\right) e^{- \\frac{2.0 \\cdot 10^{-15}}{a}}}{a^{2}}$"
      ],
      "text/plain": [
       "(a**2*exp(2.0e-15/a) - a**2 - 2.0e-15*a - 2.0e-30)*exp(-2.0e-15/a)/a**2"
      ]
     },
     "execution_count": 25,
     "metadata": {},
     "output_type": "execute_result"
    }
   ],
   "source": [
    "a = 0.529 * 10 ** -10 \n",
    "simplify(expression)"
   ]
  },
  {
   "cell_type": "code",
   "execution_count": 8,
   "id": "15dc6505",
   "metadata": {},
   "outputs": [
    {
     "data": {
      "text/latex": [
       "$\\displaystyle 3.50324616081204 \\cdot 10^{-46}$"
      ],
      "text/plain": [
       "3.50324616081204e-46"
      ]
     },
     "execution_count": 8,
     "metadata": {},
     "output_type": "execute_result"
    }
   ],
   "source": [
    "def_integral "
   ]
  },
  {
   "cell_type": "code",
   "execution_count": 53,
   "id": "58c94baa",
   "metadata": {},
   "outputs": [
    {
     "data": {
      "text/plain": [
       "1.0666666666666669e-14"
      ]
     },
     "execution_count": 53,
     "metadata": {},
     "output_type": "execute_result"
    }
   ],
   "source": [
    "a = 0.5 * 10 ** -10\n",
    "r = 10 ** -15 \n",
    "4 / 3 * ( r / a)**3"
   ]
  },
  {
   "cell_type": "code",
   "execution_count": 54,
   "id": "cbb2d63d",
   "metadata": {},
   "outputs": [
    {
     "data": {
      "text/plain": [
       "10.666666666666666"
      ]
     },
     "execution_count": 54,
     "metadata": {},
     "output_type": "execute_result"
    }
   ],
   "source": [
    "32 / 3"
   ]
  },
  {
   "cell_type": "code",
   "execution_count": 17,
   "id": "cd7a61db",
   "metadata": {},
   "outputs": [
    {
     "data": {
      "text/plain": [
       "1.8903591682419658e-05"
      ]
     },
     "execution_count": 17,
     "metadata": {},
     "output_type": "execute_result"
    }
   ],
   "source": [
    " r / a"
   ]
  },
  {
   "cell_type": "code",
   "execution_count": 5,
   "id": "f3f8424f",
   "metadata": {},
   "outputs": [
    {
     "data": {
      "text/plain": [
       "False"
      ]
     },
     "execution_count": 5,
     "metadata": {},
     "output_type": "execute_result"
    }
   ],
   "source": [
    "0.1 + 0.2 == 0.3"
   ]
  },
  {
   "cell_type": "code",
   "execution_count": null,
   "id": "a590b06f",
   "metadata": {},
   "outputs": [],
   "source": []
  }
 ],
 "metadata": {
  "kernelspec": {
   "display_name": "Python 3 (ipykernel)",
   "language": "python",
   "name": "python3"
  },
  "language_info": {
   "codemirror_mode": {
    "name": "ipython",
    "version": 3
   },
   "file_extension": ".py",
   "mimetype": "text/x-python",
   "name": "python",
   "nbconvert_exporter": "python",
   "pygments_lexer": "ipython3",
   "version": "3.11.4"
  }
 },
 "nbformat": 4,
 "nbformat_minor": 5
}
