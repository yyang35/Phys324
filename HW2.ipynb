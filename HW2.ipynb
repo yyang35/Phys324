{
 "cells": [
  {
   "cell_type": "code",
   "execution_count": 2,
   "id": "762fac01",
   "metadata": {},
   "outputs": [
    {
     "name": "stdout",
     "output_type": "stream",
     "text": [
      "(sin(pi*x/a)**2 + 2*sin(pi*x/a)*sin(4*pi*x/a)*cos(15*pi**2*h/(2*a**2*m)) + sin(4*pi*x/a)**2)/a\n"
     ]
    }
   ],
   "source": [
    "from sympy import symbols, Eq, solve, sin, cos, exp, sqrt, pi, I, simplify, cosh, integrate\n",
    "\n",
    "x, E0, t, m, h = symbols('x E0 t m h', real=True)\n",
    "a= symbols('a', real=True, positive=True)\n",
    "\n",
    "expression = 1/sqrt(a)* sin(pi*x/a)*exp(-1 * I *(pi**2 * h /(2 * m * a**2))) + 1/sqrt(a)* sin(4*pi*x/a)*exp(-16 * I *(pi**2 * h /(2 * m * a**2)))\n",
    "sqrt_exp = expression.conjugate() * expression\n",
    "simplied_exp = simplify(sqrt_exp)\n",
    "rewrite_exp = simplied_exp.rewrite(cos)\n",
    "\n",
    "print(simplify(rewrite_exp))"
   ]
  },
  {
   "cell_type": "code",
   "execution_count": null,
   "id": "78094048",
   "metadata": {},
   "outputs": [],
   "source": [
    "x_expectation = x*rewrite_exp\n",
    "def_integral = integrate(x_expectation, (x, 0, a))\n",
    "print(indef_integral)"
   ]
  },
  {
   "cell_type": "code",
   "execution_count": 31,
   "id": "e0495b17",
   "metadata": {},
   "outputs": [
    {
     "name": "stdout",
     "output_type": "stream",
     "text": [
      "-80*a*cos(21*pi**2*h/(2*a**2*m))/(441*pi**2) + a/2\n"
     ]
    }
   ],
   "source": [
    "from sympy import symbols, integrate, sin, cos, pi\n",
    "\n",
    "x, a, h, m = symbols('x a h m', real=True)\n",
    "\n",
    "# Define the function\n",
    "f = (x * (sin(2*pi*x/a)**2 +\n",
    "         2*sin(2*pi*x/a)*sin(5*pi*x/a)*cos(21*pi**2*h/(2*a**2*m)) +\n",
    "         sin(5*pi*x/a)**2)) / a\n",
    "\n",
    "# Compute the integral from 0 to a\n",
    "integral_result = integrate(f, (x, 0, a))\n",
    "print(simplify(integral_result))"
   ]
  },
  {
   "cell_type": "code",
   "execution_count": 27,
   "id": "149530cd",
   "metadata": {},
   "outputs": [
    {
     "name": "stdout",
     "output_type": "stream",
     "text": [
      "-sqrt(pi)*J*sqrt(h)/k**(3/2)\n"
     ]
    }
   ],
   "source": [
    "from sympy import symbols, integrate, sin, cos, pi, oo\n",
    "\n",
    "a, h, m, k, J = symbols('a h m k J', real=True , positive=True)\n",
    "x = symbols('x', real=True)\n",
    "\n",
    "f =  exp(-1/h*(sqrt(k)*x + J/sqrt(k))**2) * x\n",
    "\n",
    "# Compute the integral from 0 to a\n",
    "integral_result = integrate(f, (x, -oo, oo))\n",
    "print(simplify(integral_result))"
   ]
  },
  {
   "cell_type": "code",
   "execution_count": 28,
   "id": "a6918d44",
   "metadata": {},
   "outputs": [
    {
     "data": {
      "text/latex": [
       "$\\displaystyle - \\frac{\\sqrt{\\pi} J \\sqrt{h}}{k^{\\frac{3}{2}}}$"
      ],
      "text/plain": [
       "-sqrt(pi)*J*sqrt(h)/k**(3/2)"
      ]
     },
     "execution_count": 28,
     "metadata": {},
     "output_type": "execute_result"
    }
   ],
   "source": [
    "integral_result"
   ]
  },
  {
   "cell_type": "code",
   "execution_count": 30,
   "id": "9c3b2eba",
   "metadata": {},
   "outputs": [
    {
     "data": {
      "text/latex": [
       "$\\displaystyle - \\frac{32 a \\cos{\\left(\\frac{15 \\pi^{2} h}{2 a^{2} m} \\right)}}{225 \\pi^{2}} + \\frac{a}{2}$"
      ],
      "text/plain": [
       "-32*a*cos(15*pi**2*h/(2*a**2*m))/(225*pi**2) + a/2"
      ]
     },
     "execution_count": 30,
     "metadata": {},
     "output_type": "execute_result"
    }
   ],
   "source": [
    "simplify(integral_result)"
   ]
  },
  {
   "cell_type": "code",
   "execution_count": 32,
   "id": "9a4610e1",
   "metadata": {},
   "outputs": [
    {
     "data": {
      "text/latex": [
       "$\\displaystyle - \\frac{80 a \\cos{\\left(\\frac{21 \\pi^{2} h}{2 a^{2} m} \\right)}}{441 \\pi^{2}} + \\frac{a}{2}$"
      ],
      "text/plain": [
       "-80*a*cos(21*pi**2*h/(2*a**2*m))/(441*pi**2) + a/2"
      ]
     },
     "execution_count": 32,
     "metadata": {},
     "output_type": "execute_result"
    }
   ],
   "source": [
    "simplify(integral_result)"
   ]
  },
  {
   "cell_type": "code",
   "execution_count": 36,
   "id": "1ef31e5c",
   "metadata": {},
   "outputs": [
    {
     "data": {
      "text/latex": [
       "$\\displaystyle - \\frac{80 a \\cos{\\left(\\frac{21 \\pi^{2} h}{2 a^{2} m} \\right)}}{441 \\pi^{2}}$"
      ],
      "text/plain": [
       "-80*a*cos(21*pi**2*h/(2*a**2*m))/(441*pi**2)"
      ]
     },
     "execution_count": 36,
     "metadata": {},
     "output_type": "execute_result"
    }
   ],
   "source": [
    "f = x * 2*sin(2*pi*x/a)*sin(5*pi*x/a)*cos(21*pi**2*h/(2*a**2*m)) / a\n",
    "\n",
    "# Compute the integral from 0 to a\n",
    "integral_result = integrate(f, (x, 0, a))\n",
    "simplify(integral_result)"
   ]
  },
  {
   "cell_type": "code",
   "execution_count": null,
   "id": "511ce73b",
   "metadata": {},
   "outputs": [],
   "source": []
  }
 ],
 "metadata": {
  "kernelspec": {
   "display_name": "Python 3 (ipykernel)",
   "language": "python",
   "name": "python3"
  },
  "language_info": {
   "codemirror_mode": {
    "name": "ipython",
    "version": 3
   },
   "file_extension": ".py",
   "mimetype": "text/x-python",
   "name": "python",
   "nbconvert_exporter": "python",
   "pygments_lexer": "ipython3",
   "version": "3.11.4"
  }
 },
 "nbformat": 4,
 "nbformat_minor": 5
}
