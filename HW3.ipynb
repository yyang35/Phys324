{
 "cells": [
  {
   "cell_type": "code",
   "execution_count": 38,
   "id": "b4b57188",
   "metadata": {},
   "outputs": [
    {
     "data": {
      "text/latex": [
       "$\\displaystyle 4 F^{2} x_{0} + \\frac{4 F^{2} x_{0} \\left(1 + e^{W\\left(- \\frac{2}{e^{2}}\\right) + 2}\\right)^{2}}{\\left(2 W\\left(- \\frac{2}{e^{2}}\\right) + 4\\right) e^{W\\left(- \\frac{2}{e^{2}}\\right) + 2}} + \\frac{\\frac{- 2 F^{2} x_{0} - F^{2} x_{0} W\\left(- \\frac{2}{e^{2}}\\right)}{e^{W\\left(- \\frac{2}{e^{2}}\\right) + 2}} + \\left(F^{2} x_{0} W\\left(- \\frac{2}{e^{2}}\\right) + 2 F^{2} x_{0}\\right) e^{W\\left(- \\frac{2}{e^{2}}\\right) + 2}}{4 W\\left(- \\frac{2}{e^{2}}\\right) + W^{2}\\left(- \\frac{2}{e^{2}}\\right) + 4} - \\frac{\\left(- 2 F^{2} x_{0} - F^{2} x_{0} W\\left(- \\frac{2}{e^{2}}\\right)\\right) e^{W\\left(- \\frac{2}{e^{2}}\\right) + 2} + \\frac{F^{2} x_{0} W\\left(- \\frac{2}{e^{2}}\\right) + 2 F^{2} x_{0}}{e^{W\\left(- \\frac{2}{e^{2}}\\right) + 2}}}{4 W\\left(- \\frac{2}{e^{2}}\\right) + W^{2}\\left(- \\frac{2}{e^{2}}\\right) + 4}$"
      ],
      "text/plain": [
       "4*F**2*x0 + 4*F**2*x0*(1 + exp(LambertW(-2*exp(-2)) + 2))**2*exp(-2 - LambertW(-2*exp(-2)))/(2*LambertW(-2*exp(-2)) + 4) + ((-2*F**2*x0 - F**2*x0*LambertW(-2*exp(-2)))*exp(-2 - LambertW(-2*exp(-2))) + (F**2*x0*LambertW(-2*exp(-2)) + 2*F**2*x0)*exp(LambertW(-2*exp(-2)) + 2))/(4*LambertW(-2*exp(-2)) + LambertW(-2*exp(-2))**2 + 4) - ((-2*F**2*x0 - F**2*x0*LambertW(-2*exp(-2)))*exp(LambertW(-2*exp(-2)) + 2) + (F**2*x0*LambertW(-2*exp(-2)) + 2*F**2*x0)*exp(-2 - LambertW(-2*exp(-2))))/(4*LambertW(-2*exp(-2)) + LambertW(-2*exp(-2))**2 + 4)"
      ]
     },
     "execution_count": 38,
     "metadata": {},
     "output_type": "execute_result"
    }
   ],
   "source": [
    "from sympy import symbols, Eq, solve, sin, cos, exp, sqrt, pi, I, oo,  simplify, cosh, integrate\n",
    "\n",
    "x= symbols('x', real=True)\n",
    "F, x0 = symbols('F x0', real=True, positive=True)\n",
    "\n",
    "equation = Eq((1- exp(-2*x))/x,1)\n",
    "solutions = solve(equation, x)\n",
    "k = solutions[0] / x0\n",
    "\n",
    "A = F*(1+exp(2*k*x0))\n",
    "\n",
    "f1 = (A*exp(k*x)) ** 2\n",
    "f2 = (F*(exp(-k*x)+exp(k*x))) ** 2\n",
    "f3 = (A*exp(-k*x)) ** 2\n",
    "\n",
    "integral_result = integrate(f1, (x, -1 * oo, -1 * x0)) + integrate(f2, (x,-1 * x0, x0)) +  integrate(f3, (x, x0, oo))\n",
    "integral_result"
   ]
  },
  {
   "cell_type": "code",
   "execution_count": 39,
   "id": "4409b77a",
   "metadata": {},
   "outputs": [],
   "source": [
    "equation = Eq(integral_result,1)"
   ]
  },
  {
   "cell_type": "code",
   "execution_count": 40,
   "id": "284ddb7c",
   "metadata": {},
   "outputs": [],
   "source": [
    "solutions = solve(equation, F)"
   ]
  },
  {
   "cell_type": "code",
   "execution_count": 41,
   "id": "c72d157d",
   "metadata": {},
   "outputs": [
    {
     "data": {
      "text/latex": [
       "$\\displaystyle \\frac{\\sqrt{W\\left(- \\frac{2}{e^{2}}\\right) + 2}}{2 \\sqrt{x_{0}} \\sqrt{W\\left(- \\frac{2}{e^{2}}\\right) + 3 + e^{W\\left(- \\frac{2}{e^{2}}\\right) + 2}}}$"
      ],
      "text/plain": [
       "sqrt(LambertW(-2*exp(-2)) + 2)/(2*sqrt(x0)*sqrt(LambertW(-2*exp(-2)) + 3 + exp(LambertW(-2*exp(-2)) + 2)))"
      ]
     },
     "execution_count": 41,
     "metadata": {},
     "output_type": "execute_result"
    }
   ],
   "source": [
    "solutions[0]"
   ]
  },
  {
   "cell_type": "code",
   "execution_count": 37,
   "id": "ca392d73",
   "metadata": {},
   "outputs": [
    {
     "data": {
      "text/latex": [
       "$\\displaystyle \\frac{\\left(e^{-1 - \\frac{W\\left(\\frac{2}{e^{2}}\\right)}{2}} + e^{\\frac{W\\left(\\frac{2}{e^{2}}\\right)}{2} + 1}\\right) \\sqrt{W\\left(\\frac{2}{e^{2}}\\right) + 2}}{2 \\sqrt{x_{0}} \\sqrt{W\\left(\\frac{2}{e^{2}}\\right) + 3 + e^{W\\left(\\frac{2}{e^{2}}\\right) + 2}}}$"
      ],
      "text/plain": [
       "(exp(-1 - LambertW(2*exp(-2))/2) + exp(LambertW(2*exp(-2))/2 + 1))*sqrt(LambertW(2*exp(-2)) + 2)/(2*sqrt(x0)*sqrt(LambertW(2*exp(-2)) + 3 + exp(LambertW(2*exp(-2)) + 2)))"
      ]
     },
     "execution_count": 37,
     "metadata": {},
     "output_type": "execute_result"
    }
   ],
   "source": [
    "solutions[0]*(exp(-k*x0)+exp(k*x0))"
   ]
  },
  {
   "cell_type": "code",
   "execution_count": 29,
   "id": "fe7d1c89",
   "metadata": {},
   "outputs": [
    {
     "data": {
      "text/latex": [
       "$\\displaystyle \\infty$"
      ],
      "text/plain": [
       "oo"
      ]
     },
     "execution_count": 29,
     "metadata": {},
     "output_type": "execute_result"
    }
   ],
   "source": [
    "integrate(exp(-k*x), (x,  -oo, -1))"
   ]
  },
  {
   "cell_type": "code",
   "execution_count": 11,
   "id": "3dcc73de",
   "metadata": {},
   "outputs": [
    {
     "data": {
      "text/latex": [
       "$\\displaystyle \\frac{\\frac{- 4 F x_{0} - 2 F x_{0} W\\left(\\frac{2}{e^{2}}\\right)}{e^{\\frac{W\\left(\\frac{2}{e^{2}}\\right)}{2} + 1}} + \\left(2 F x_{0} W\\left(\\frac{2}{e^{2}}\\right) + 4 F x_{0}\\right) e^{\\frac{W\\left(\\frac{2}{e^{2}}\\right)}{2} + 1}}{W^{2}\\left(\\frac{2}{e^{2}}\\right) + 4 W\\left(\\frac{2}{e^{2}}\\right) + 4} - \\frac{\\left(- 4 F x_{0} - 2 F x_{0} W\\left(\\frac{2}{e^{2}}\\right)\\right) e^{\\frac{W\\left(\\frac{2}{e^{2}}\\right)}{2} + 1} + \\frac{2 F x_{0} W\\left(\\frac{2}{e^{2}}\\right) + 4 F x_{0}}{e^{\\frac{W\\left(\\frac{2}{e^{2}}\\right)}{2} + 1}}}{W^{2}\\left(\\frac{2}{e^{2}}\\right) + 4 W\\left(\\frac{2}{e^{2}}\\right) + 4}$"
      ],
      "text/plain": [
       "((-4*F*x0 - 2*F*x0*LambertW(2*exp(-2)))*exp(-1 - LambertW(2*exp(-2))/2) + (2*F*x0*LambertW(2*exp(-2)) + 4*F*x0)*exp(LambertW(2*exp(-2))/2 + 1))/(LambertW(2*exp(-2))**2 + 4*LambertW(2*exp(-2)) + 4) - ((-4*F*x0 - 2*F*x0*LambertW(2*exp(-2)))*exp(LambertW(2*exp(-2))/2 + 1) + (2*F*x0*LambertW(2*exp(-2)) + 4*F*x0)*exp(-1 - LambertW(2*exp(-2))/2))/(LambertW(2*exp(-2))**2 + 4*LambertW(2*exp(-2)) + 4)"
      ]
     },
     "execution_count": 11,
     "metadata": {},
     "output_type": "execute_result"
    }
   ],
   "source": [
    "integrate(f2, (x,-1 * x0, x0))"
   ]
  },
  {
   "cell_type": "code",
   "execution_count": 3,
   "id": "16eed482",
   "metadata": {},
   "outputs": [
    {
     "name": "stdout",
     "output_type": "stream",
     "text": [
      "[LambertW(2*exp(-2))/2 + 1]\n"
     ]
    }
   ],
   "source": [
    "from sympy import symbols, Eq, solve, sin, cos, exp, sqrt, pi, I, simplify, cosh, integrate\n",
    "\n",
    "x= symbols('x', real=True)\n",
    "\n",
    "equation = Eq((exp(-2*x) + 1)/x,1)\n",
    "\n",
    "solutions = solve(equation, x)\n",
    "\n",
    "\n",
    "print(solutions)"
   ]
  },
  {
   "cell_type": "code",
   "execution_count": 6,
   "id": "5d6b9823",
   "metadata": {},
   "outputs": [
    {
     "data": {
      "text/latex": [
       "$\\displaystyle \\frac{W\\left(\\frac{2}{e^{2}}\\right)}{2} + 1$"
      ],
      "text/plain": [
       "LambertW(2*exp(-2))/2 + 1"
      ]
     },
     "execution_count": 6,
     "metadata": {},
     "output_type": "execute_result"
    }
   ],
   "source": [
    "solutions[0]"
   ]
  },
  {
   "cell_type": "code",
   "execution_count": 7,
   "id": "8c213b81",
   "metadata": {},
   "outputs": [
    {
     "data": {
      "text/latex": [
       "$\\displaystyle \\frac{W\\left(\\frac{2}{e^{2}}\\right)}{2} + 1$"
      ],
      "text/plain": [
       "LambertW(2*exp(-2))/2 + 1"
      ]
     },
     "execution_count": 7,
     "metadata": {},
     "output_type": "execute_result"
    }
   ],
   "source": [
    "simplify(solutions[0])"
   ]
  },
  {
   "cell_type": "code",
   "execution_count": 22,
   "id": "e3682ed9",
   "metadata": {},
   "outputs": [
    {
     "data": {
      "text/latex": [
       "$\\displaystyle F \\left(1 + e^{W\\left(\\frac{2}{e^{2}}\\right) + 2}\\right)$"
      ],
      "text/plain": [
       "F*(1 + exp(LambertW(2*exp(-2)) + 2))"
      ]
     },
     "execution_count": 22,
     "metadata": {},
     "output_type": "execute_result"
    }
   ],
   "source": [
    "A "
   ]
  },
  {
   "cell_type": "code",
   "execution_count": 13,
   "id": "9d3c368c",
   "metadata": {},
   "outputs": [
    {
     "data": {
      "text/latex": [
       "$\\displaystyle F \\left(1 + e^{W\\left(\\frac{2}{e^{2}}\\right) + 2}\\right) e^{- \\frac{x \\left(\\frac{W\\left(\\frac{2}{e^{2}}\\right)}{2} + 1\\right)}{x_{0}}}$"
      ],
      "text/plain": [
       "F*(1 + exp(LambertW(2*exp(-2)) + 2))*exp(-x*(LambertW(2*exp(-2))/2 + 1)/x0)"
      ]
     },
     "execution_count": 13,
     "metadata": {},
     "output_type": "execute_result"
    }
   ],
   "source": [
    "f1"
   ]
  },
  {
   "cell_type": "code",
   "execution_count": 27,
   "id": "3342a6ec",
   "metadata": {},
   "outputs": [
    {
     "data": {
      "text/latex": [
       "$\\displaystyle \\text{True}$"
      ],
      "text/plain": [
       "True"
      ]
     },
     "execution_count": 27,
     "metadata": {},
     "output_type": "execute_result"
    }
   ],
   "source": [
    "A < 100"
   ]
  },
  {
   "cell_type": "code",
   "execution_count": null,
   "id": "6632a47e",
   "metadata": {},
   "outputs": [],
   "source": []
  }
 ],
 "metadata": {
  "kernelspec": {
   "display_name": "Python 3 (ipykernel)",
   "language": "python",
   "name": "python3"
  },
  "language_info": {
   "codemirror_mode": {
    "name": "ipython",
    "version": 3
   },
   "file_extension": ".py",
   "mimetype": "text/x-python",
   "name": "python",
   "nbconvert_exporter": "python",
   "pygments_lexer": "ipython3",
   "version": "3.11.4"
  }
 },
 "nbformat": 4,
 "nbformat_minor": 5
}
